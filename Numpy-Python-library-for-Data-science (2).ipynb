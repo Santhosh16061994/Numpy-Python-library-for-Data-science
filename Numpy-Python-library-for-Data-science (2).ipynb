{
  "cells": [
    {
      "cell_type": "markdown",
      "metadata": {
        "id": "qpJr0SseJEst"
      },
      "source": [
        "# Importing a libraries in Python"
      ]
    },
    {
      "cell_type": "code",
      "execution_count": 1,
      "metadata": {
        "colab": {
          "base_uri": "https://localhost:8080/"
        },
        "id": "r9QIRjNgJEs1",
        "outputId": "f33b82f0-73e2-4a2a-d802-109a9dffe7b5"
      },
      "outputs": [
        {
          "output_type": "stream",
          "name": "stdout",
          "text": [
            "4.0\n"
          ]
        }
      ],
      "source": [
        "import math # math is librery.\n",
        "a = 16\n",
        "print(math.sqrt(a))"
      ]
    },
    {
      "cell_type": "code",
      "source": [
        "import math # math is librery.\n",
        "a = 81\n",
        "print(math.sqrt(81))"
      ],
      "metadata": {
        "colab": {
          "base_uri": "https://localhost:8080/"
        },
        "id": "wRdAxBTPJeYv",
        "outputId": "791fb6bf-9883-42d8-d753-5558c00e3ed4"
      },
      "execution_count": 36,
      "outputs": [
        {
          "output_type": "stream",
          "name": "stdout",
          "text": [
            "9.0\n"
          ]
        }
      ]
    },
    {
      "cell_type": "code",
      "execution_count": 2,
      "metadata": {
        "colab": {
          "base_uri": "https://localhost:8080/"
        },
        "id": "bE5VgtBDJEs6",
        "outputId": "c0dee727-9aca-4ebd-b500-30e913729f1b"
      },
      "outputs": [
        {
          "output_type": "stream",
          "name": "stdout",
          "text": [
            "4.0\n"
          ]
        }
      ],
      "source": [
        "import math as m\n",
        "a = 16\n",
        "print(m.sqrt(a))"
      ]
    },
    {
      "cell_type": "code",
      "execution_count": 3,
      "metadata": {
        "colab": {
          "base_uri": "https://localhost:8080/"
        },
        "id": "mOvLUYyZJEs7",
        "outputId": "673608c2-2dba-442f-aa5c-a9cf815b7f57"
      },
      "outputs": [
        {
          "output_type": "stream",
          "name": "stdout",
          "text": [
            "sqrt is 4.0\n",
            "sin val is -0.2879033166650653\n"
          ]
        }
      ],
      "source": [
        "from math import sqrt,sin\n",
        "\n",
        "print('sqrt is',sqrt(16))\n",
        "print('sin val is',sin(16))"
      ]
    },
    {
      "cell_type": "markdown",
      "metadata": {
        "id": "ljZllQKaJEs-"
      },
      "source": [
        "# Numpy Library"
      ]
    },
    {
      "cell_type": "code",
      "execution_count": 4,
      "metadata": {
        "colab": {
          "base_uri": "https://localhost:8080/"
        },
        "id": "49jfxKAoJEs_",
        "outputId": "0966f0c8-851a-4796-9584-842c32325f82"
      },
      "outputs": [
        {
          "output_type": "stream",
          "name": "stdout",
          "text": [
            "1.22.4\n"
          ]
        }
      ],
      "source": [
        "import numpy\n",
        "print (numpy.__version__)"
      ]
    },
    {
      "cell_type": "code",
      "source": [
        "# array si group of similar kind of element\n",
        "# numpy use to accesse n dimentional array."
      ],
      "metadata": {
        "id": "yvpeRwllKO4N"
      },
      "execution_count": null,
      "outputs": []
    },
    {
      "cell_type": "code",
      "execution_count": 5,
      "metadata": {
        "colab": {
          "base_uri": "https://localhost:8080/"
        },
        "id": "KjpFBJuHJEtA",
        "outputId": "f547dffb-f068-44a3-f2fb-63c942883ff3"
      },
      "outputs": [
        {
          "output_type": "stream",
          "name": "stdout",
          "text": [
            "[1 2 3 4 5]\n"
          ]
        }
      ],
      "source": [
        "# Numpy Array \n",
        "import numpy as np\n",
        "a = np.array([1,2,3,4,5])\n",
        "print(a)\n",
        "\n",
        "# created simple array."
      ]
    },
    {
      "cell_type": "code",
      "execution_count": 6,
      "metadata": {
        "colab": {
          "base_uri": "https://localhost:8080/"
        },
        "id": "40VJXPzoJEtB",
        "outputId": "d7035391-bdda-4c5b-d317-5544c4b1b007"
      },
      "outputs": [
        {
          "output_type": "execute_result",
          "data": {
            "text/plain": [
              "numpy.ndarray"
            ]
          },
          "metadata": {},
          "execution_count": 6
        }
      ],
      "source": [
        "type(a)"
      ]
    },
    {
      "cell_type": "code",
      "execution_count": 7,
      "metadata": {
        "colab": {
          "base_uri": "https://localhost:8080/"
        },
        "id": "CyHZGJImJEtC",
        "outputId": "f70859a2-c140-4282-b9a7-965f0cfa4b5a"
      },
      "outputs": [
        {
          "output_type": "stream",
          "name": "stdout",
          "text": [
            "0\n"
          ]
        },
        {
          "output_type": "execute_result",
          "data": {
            "text/plain": [
              "numpy.ndarray"
            ]
          },
          "metadata": {},
          "execution_count": 7
        }
      ],
      "source": [
        "# 0D Array\n",
        "a1 = np.array(0)\n",
        "print(a1)\n",
        "type(a1)\n",
        "\n",
        " # singel element."
      ]
    },
    {
      "cell_type": "code",
      "execution_count": 8,
      "metadata": {
        "colab": {
          "base_uri": "https://localhost:8080/"
        },
        "id": "jhN7J1sgJEtD",
        "outputId": "8a2381d9-93fe-4149-f224-13b7ba78f319"
      },
      "outputs": [
        {
          "output_type": "stream",
          "name": "stdout",
          "text": [
            "[1 2 3 4 5]\n"
          ]
        }
      ],
      "source": [
        "# 1D array\n",
        "#import numpy as np\n",
        "a2 = np.array([1,2,3,4,5])\n",
        "print(a2)"
      ]
    },
    {
      "cell_type": "code",
      "execution_count": 9,
      "metadata": {
        "colab": {
          "base_uri": "https://localhost:8080/"
        },
        "id": "kinWloGSJEtE",
        "outputId": "4628247c-d2b8-4d2c-b8ed-c5b83b88b0f1"
      },
      "outputs": [
        {
          "output_type": "stream",
          "name": "stdout",
          "text": [
            "[[1 2 3 4 5]\n",
            " [1 2 3 4 5]]\n"
          ]
        }
      ],
      "source": [
        "# 2D array\n",
        "import numpy as np\n",
        "a3 = np.array([[1,2,3,4,5],[1,2,3,4,5]])    #([[],[]])\n",
        "print(a3)"
      ]
    },
    {
      "cell_type": "code",
      "execution_count": 10,
      "metadata": {
        "colab": {
          "base_uri": "https://localhost:8080/"
        },
        "id": "x9YIm42CJEtF",
        "outputId": "e5b5f8ba-3887-4651-c803-d60ed3b76a70"
      },
      "outputs": [
        {
          "output_type": "stream",
          "name": "stdout",
          "text": [
            "[[1 2 3]\n",
            " [1 2 3]\n",
            " [1 2 3]]\n"
          ]
        }
      ],
      "source": [
        "# 2D array\n",
        "import numpy as np\n",
        "a3 = np.array([[1,2,3],[1,2,3],[1,2,3]])    #([[],[]])\n",
        "print(a3)"
      ]
    },
    {
      "cell_type": "code",
      "execution_count": 11,
      "metadata": {
        "colab": {
          "base_uri": "https://localhost:8080/"
        },
        "id": "HzAuSDgLJEtG",
        "outputId": "3d2750d2-d9a0-40aa-f5ae-46b4e15de2c4"
      },
      "outputs": [
        {
          "output_type": "stream",
          "name": "stdout",
          "text": [
            "0\n",
            "1\n",
            "2\n"
          ]
        }
      ],
      "source": [
        "# Printing the dimesnions of array with ndim\n",
        "print(a1.ndim)\n",
        "print(a2.ndim)\n",
        "print(a3.ndim)\n"
      ]
    },
    {
      "cell_type": "code",
      "execution_count": 12,
      "metadata": {
        "colab": {
          "base_uri": "https://localhost:8080/"
        },
        "id": "wXZnO_bTJEtG",
        "outputId": "57bf125d-0b52-4650-fbf0-0ed3c7b44d92"
      },
      "outputs": [
        {
          "output_type": "stream",
          "name": "stdout",
          "text": [
            "[[ 1  2  3  4  5]\n",
            " [ 6  7  8  9 10]]\n",
            "-----------\n",
            "[[ 6  7  8  9 10]\n",
            " [11 12 13 14 15]]\n"
          ]
        }
      ],
      "source": [
        "# Broadcasting Concept\n",
        "import numpy as np\n",
        "a = np.array([[1,2,3,4,5],[6,7,8,9,10]])\n",
        "print(a)\n",
        "b = 5\n",
        "c = a + b   #Broadcasting  , means adding the value to the elements of array.\n",
        "print('-----------')\n",
        "print(c)"
      ]
    },
    {
      "cell_type": "code",
      "execution_count": 13,
      "metadata": {
        "colab": {
          "base_uri": "https://localhost:8080/"
        },
        "id": "rCn_RVy2JEtH",
        "outputId": "b307a9b2-391e-4082-b34e-09db53a0222b"
      },
      "outputs": [
        {
          "output_type": "stream",
          "name": "stdout",
          "text": [
            "(2, 3)\n"
          ]
        }
      ],
      "source": [
        "# Array manipulation functions shape,reshape,concatenate\n",
        "# shape function\n",
        "import numpy as np\n",
        "a = np.array([[1,2,3],[4,5,6]])\n",
        "a\n",
        "print(a.shape)\n",
        "\n",
        "# tells about rows and column.\n"
      ]
    },
    {
      "cell_type": "code",
      "execution_count": 14,
      "metadata": {
        "colab": {
          "base_uri": "https://localhost:8080/"
        },
        "id": "BxQRiv3RJEtI",
        "outputId": "3fd90421-b523-4fcb-acb4-e6245d6fb5d4"
      },
      "outputs": [
        {
          "output_type": "stream",
          "name": "stdout",
          "text": [
            "[ 1  2  3  4  5  6  7  8  9 10 11 12]\n",
            "(12,)\n",
            "[[ 1  2  3  4]\n",
            " [ 5  6  7  8]\n",
            " [ 9 10 11 12]]\n",
            "[[ 1  2  3]\n",
            " [ 4  5  6]\n",
            " [ 7  8  9]\n",
            " [10 11 12]]\n",
            "[[[ 1  2]\n",
            "  [ 3  4]]\n",
            "\n",
            " [[ 5  6]\n",
            "  [ 7  8]]\n",
            "\n",
            " [[ 9 10]\n",
            "  [11 12]]]\n",
            "3\n"
          ]
        }
      ],
      "source": [
        "# reshape function\n",
        "import numpy as np\n",
        "b = np.array([1,2,3,4,5,6,7,8,9,10,11,12])\n",
        "print(b)\n",
        "print(b.shape)\n",
        "\n",
        "c = b.reshape(3,4)\n",
        "print(c)\n",
        "\n",
        "c = b.reshape(4,3)\n",
        "print(c)\n",
        "\n",
        "c = b.reshape(3,2,2)\n",
        "print(c)\n",
        "print(c.ndim)\n",
        "\n",
        "# converrting or reshaping the elemnt should match."
      ]
    },
    {
      "cell_type": "code",
      "execution_count": 15,
      "metadata": {
        "colab": {
          "base_uri": "https://localhost:8080/"
        },
        "id": "DdsLl5SAJEtI",
        "outputId": "94b04935-69cb-41ac-cbea-0768e00c3e52"
      },
      "outputs": [
        {
          "output_type": "stream",
          "name": "stdout",
          "text": [
            "[1 2 3 4 5 6 7 8 9]\n"
          ]
        }
      ],
      "source": [
        "# Array manipulation functions \n",
        "# concatenate function\n",
        "import numpy as np\n",
        "a1 = np.array([1,2,3,4,5])\n",
        "a2 = np.array([6,7,8,9])\n",
        "a3 = np.concatenate((a1,a2)) # simply adding element to the array\n",
        "print(a3)"
      ]
    },
    {
      "cell_type": "code",
      "execution_count": 16,
      "metadata": {
        "colab": {
          "base_uri": "https://localhost:8080/"
        },
        "id": "c7cfRFqNJEtJ",
        "outputId": "93a39203-4e18-4128-aefb-912c41046500"
      },
      "outputs": [
        {
          "output_type": "stream",
          "name": "stdout",
          "text": [
            "['HelloWelcome' 'WorldLearner']\n"
          ]
        }
      ],
      "source": [
        "# Numpy string functions \n",
        "# add function\n",
        "# adding index wise.\n",
        "import numpy as np\n",
        "a1 = np.array(['Hello','World'])\n",
        "a2 = np.array(['Welcome','Learner'])\n",
        "a3 = np.char.add(a1,a2)\n",
        "print(a3)"
      ]
    },
    {
      "cell_type": "code",
      "execution_count": 17,
      "metadata": {
        "colab": {
          "base_uri": "https://localhost:8080/"
        },
        "id": "COK-WjX5JEtJ",
        "outputId": "cf1efa43-cb19-45cb-8af1-5fa8f17d6875"
      },
      "outputs": [
        {
          "output_type": "stream",
          "name": "stdout",
          "text": [
            "Hello How are you\n",
            "Hi How are you\n"
          ]
        }
      ],
      "source": [
        "# Numpy string functions \n",
        "# replace function\n",
        "import numpy as np\n",
        "str = 'Hello How are you'\n",
        "print(str)\n",
        "\n",
        "a= np.char.replace(str, 'Hello','Hi')\n",
        "print(a)"
      ]
    },
    {
      "cell_type": "code",
      "execution_count": 18,
      "metadata": {
        "colab": {
          "base_uri": "https://localhost:8080/"
        },
        "id": "osKkS_LZJEtK",
        "outputId": "711c3fe6-ffdd-4ea9-c7db-85020b20e995"
      },
      "outputs": [
        {
          "output_type": "stream",
          "name": "stdout",
          "text": [
            "Hello How are you\n",
            "HELLO HOW ARE YOU\n",
            "hello how are you\n",
            "Hello How Are You\n"
          ]
        }
      ],
      "source": [
        "# Numpy string functions \n",
        "# upper, lower function\n",
        "import numpy as np\n",
        "str = 'Hello How are you'\n",
        "print(str)\n",
        "\n",
        "a= np.char.upper(str)\n",
        "print(a)\n",
        "\n",
        "b= np.char.lower(a)\n",
        "print(b)\n",
        "\n",
        "print(np.char.title(a))"
      ]
    },
    {
      "cell_type": "code",
      "execution_count": 19,
      "metadata": {
        "colab": {
          "base_uri": "https://localhost:8080/"
        },
        "id": "kG7CmmWFJEtK",
        "outputId": "ba542245-7f59-4c98-f807-defc317607f2"
      },
      "outputs": [
        {
          "output_type": "stream",
          "name": "stdout",
          "text": [
            "[ 2  4  6  8 10]\n"
          ]
        }
      ],
      "source": [
        "# Numpy arithmetic functions \n",
        "# add function\n",
        "import numpy as np\n",
        "a1 = np.array([1,2,3,4,5])\n",
        "a2 = np.array([1,2,3,4,5])\n",
        "c = np.add(a1,a2)\n",
        "print(c)"
      ]
    },
    {
      "cell_type": "code",
      "execution_count": 20,
      "metadata": {
        "colab": {
          "base_uri": "https://localhost:8080/"
        },
        "id": "ZWO45gtSJEtL",
        "outputId": "84c74126-cfb6-47e8-e258-476695c4d350"
      },
      "outputs": [
        {
          "output_type": "stream",
          "name": "stdout",
          "text": [
            "[0 0 0 0 0]\n"
          ]
        }
      ],
      "source": [
        "# Numpy arithmetic functions \n",
        "# subtract function\n",
        "import numpy as np\n",
        "a1 = np.array([1,2,3,4,5])\n",
        "a2 = np.array([1,2,3,4,5])\n",
        "c = np.subtract(a1,a2)\n",
        "print(c)"
      ]
    },
    {
      "cell_type": "code",
      "execution_count": 21,
      "metadata": {
        "colab": {
          "base_uri": "https://localhost:8080/"
        },
        "id": "YLlej4HoJEtL",
        "outputId": "e8718617-3151-45db-b85e-d3ca69f46ded"
      },
      "outputs": [
        {
          "output_type": "stream",
          "name": "stdout",
          "text": [
            "[1 0 0 0 0]\n"
          ]
        }
      ],
      "source": [
        "# Numpy arithmetic functions \n",
        "# mod function\n",
        "import numpy as np\n",
        "a1 = np.array([10,20,30,40,50])\n",
        "a2 = np.array([3,2,3,4,5])\n",
        "c = np.mod(a1,a2)\n",
        "print(c)\n",
        "\n",
        "\n",
        "\n",
        "# leave reminder of the array elements."
      ]
    },
    {
      "cell_type": "code",
      "execution_count": 22,
      "metadata": {
        "colab": {
          "base_uri": "https://localhost:8080/"
        },
        "id": "Oljom_AiJEtM",
        "outputId": "8db40d1d-30e3-4bd6-d2b4-0641a4c19126"
      },
      "outputs": [
        {
          "output_type": "stream",
          "name": "stdout",
          "text": [
            "[    1     8    81  1024 15625]\n"
          ]
        }
      ],
      "source": [
        "# Numpy arithmetic functions \n",
        "# power function\n",
        "import numpy as np\n",
        "a1 = np.array([1,2,3,4,5])\n",
        "a2 = np.array([2,3,4,5,6])\n",
        "c = np.power(a1,a2)\n",
        "print(c)"
      ]
    },
    {
      "cell_type": "code",
      "execution_count": 23,
      "metadata": {
        "colab": {
          "base_uri": "https://localhost:8080/"
        },
        "id": "FMcNSML_JEtN",
        "outputId": "f77c74b3-14ac-4e98-95f3-482d2fc51e51"
      },
      "outputs": [
        {
          "output_type": "stream",
          "name": "stdout",
          "text": [
            "3.0\n",
            "3.0\n"
          ]
        }
      ],
      "source": [
        "# Numpy statistical functions \n",
        "# mean, median\n",
        "import numpy as np\n",
        "a1 = np.array([1,2,3,4,5])\n",
        "print(np.median(a1))\n",
        "print(np.mean(a1))"
      ]
    },
    {
      "cell_type": "code",
      "execution_count": 24,
      "metadata": {
        "colab": {
          "base_uri": "https://localhost:8080/"
        },
        "id": "Jjy9r2OcJEtO",
        "outputId": "9f46c26c-29b6-4a7c-d4ff-dabf08316e2e"
      },
      "outputs": [
        {
          "output_type": "stream",
          "name": "stdout",
          "text": [
            "1\n",
            "3\n",
            "5\n"
          ]
        }
      ],
      "source": [
        "# Numpy Array Indexing\n",
        "import numpy as np\n",
        "a1 = np.array([1,2,3,4,5])\n",
        "print(a1[0])\n",
        "print(a1[2])\n",
        "print(a1[-1])"
      ]
    },
    {
      "cell_type": "code",
      "execution_count": 25,
      "metadata": {
        "colab": {
          "base_uri": "https://localhost:8080/"
        },
        "id": "7NylZ_AdJEtO",
        "outputId": "d5312733-11fa-4b57-84cf-67afb8370168"
      },
      "outputs": [
        {
          "output_type": "stream",
          "name": "stdout",
          "text": [
            "[[ 1  2  3  4  5]\n",
            " [ 6  7  8  9 10]]\n",
            "3\n",
            "9\n"
          ]
        }
      ],
      "source": [
        "# Numpy 2DArray Indexing\n",
        "import numpy as np\n",
        "a1 = np.array([[1,2,3,4,5],[6,7,8,9,10]])\n",
        "print(a1)\n",
        "print(a1[0,2]) # 0 row and 3rd element\n",
        "print(a1[1,3]) # 1 row and 4th element"
      ]
    },
    {
      "cell_type": "code",
      "execution_count": 26,
      "metadata": {
        "colab": {
          "base_uri": "https://localhost:8080/"
        },
        "id": "8VBNgoW-JEtP",
        "outputId": "23d569b2-68ca-49c2-96f1-e069229b3098"
      },
      "outputs": [
        {
          "output_type": "stream",
          "name": "stdout",
          "text": [
            "[1 2 3 4 5 6]\n",
            "[2 3 4]\n",
            "[1 2 3 4 5]\n",
            "[1 2 3 4 5 6]\n",
            "[2 4 6]\n",
            "[2 3 4 5]\n"
          ]
        }
      ],
      "source": [
        "# Numpy Array Slicing\n",
        "import numpy as np\n",
        "a1 = np.array([1,2,3,4,5,6])  \n",
        "print(a1)\n",
        "print(a1[1:4])\n",
        "print(a1[:5])\n",
        "print(a1[0:])\n",
        "print(a1[1:6:2]) # we are giveing start end and fetch/ step size.\n",
        "print(a1[-5:-1])"
      ]
    },
    {
      "cell_type": "code",
      "execution_count": 27,
      "metadata": {
        "colab": {
          "base_uri": "https://localhost:8080/"
        },
        "id": "HOY89bTUJEtQ",
        "outputId": "722f81ad-d906-4593-cc6b-48584f445908"
      },
      "outputs": [
        {
          "output_type": "stream",
          "name": "stdout",
          "text": [
            "[0 1 2 3 4 5 6 7 8 9]\n",
            "[1 3 5 7 9]\n"
          ]
        }
      ],
      "source": [
        "# Numpy arange function arange(start,stop,step)\n",
        "import numpy as np\n",
        "print(np.arange(0,10))\n",
        "print(np.arange(1,10,2))\n",
        "\n",
        "# more useful."
      ]
    },
    {
      "cell_type": "code",
      "execution_count": 28,
      "metadata": {
        "colab": {
          "base_uri": "https://localhost:8080/"
        },
        "id": "-JwZ2E_vJEtQ",
        "outputId": "7797c398-9529-4a37-88d8-6b0a2f5f3a28"
      },
      "outputs": [
        {
          "output_type": "stream",
          "name": "stdout",
          "text": [
            "[ 1.          1.47368421  1.94736842  2.42105263  2.89473684  3.36842105\n",
            "  3.84210526  4.31578947  4.78947368  5.26315789  5.73684211  6.21052632\n",
            "  6.68421053  7.15789474  7.63157895  8.10526316  8.57894737  9.05263158\n",
            "  9.52631579 10.        ]\n"
          ]
        }
      ],
      "source": [
        "# Numpy linspace function arange(start,stop,num)\n",
        "import numpy as np\n",
        "print(np.linspace(1,10,20))\n",
        "# it will generate decimal point number."
      ]
    },
    {
      "cell_type": "markdown",
      "metadata": {
        "id": "hJJVMzDvJEtQ"
      },
      "source": [
        "# Random Number Generation"
      ]
    },
    {
      "cell_type": "code",
      "execution_count": 29,
      "metadata": {
        "colab": {
          "base_uri": "https://localhost:8080/"
        },
        "id": "JJfsqMW0JEtR",
        "outputId": "c277ac33-2e12-40c6-a3c7-b6a5440cfd5b"
      },
      "outputs": [
        {
          "output_type": "stream",
          "name": "stdout",
          "text": [
            "0.40655197026902223\n"
          ]
        }
      ],
      "source": [
        "# using random(): generate random float no in range 0 to 1\n",
        "import random as r\n",
        "import numpy as np\n",
        "\n",
        "# print(np.random.random())\n",
        "# print(np.random.random())\n",
        "print(r.random())"
      ]
    },
    {
      "cell_type": "code",
      "execution_count": 30,
      "metadata": {
        "colab": {
          "base_uri": "https://localhost:8080/"
        },
        "id": "K-P-7JE_JEtR",
        "outputId": "36b47a91-07df-48ce-f70a-33434ad2a0ed"
      },
      "outputs": [
        {
          "output_type": "stream",
          "name": "stdout",
          "text": [
            "[[ 1.0266933  -0.59958934 -0.31264224]\n",
            " [-0.32078318 -0.4419097   1.59484053]]\n",
            "1.4270629862264155\n"
          ]
        }
      ],
      "source": [
        "# using randn(): generate random float no in range 0 to 1, follow std normal deviation\n",
        "import random\n",
        "print(np.random.randn(2,3))\n",
        "print(np.random.randn())"
      ]
    },
    {
      "cell_type": "code",
      "execution_count": 31,
      "metadata": {
        "colab": {
          "base_uri": "https://localhost:8080/"
        },
        "id": "Dj1kfIc1JEtR",
        "outputId": "1429ba08-5ba7-4811-c2c6-876b66313431"
      },
      "outputs": [
        {
          "output_type": "stream",
          "name": "stdout",
          "text": [
            "4\n",
            "[3 5 6 4 9]\n",
            "[[7 1]\n",
            " [5 5]]\n"
          ]
        }
      ],
      "source": [
        "# using randint(start,end): generate random int no in range start to end\n",
        "print(np.random.randint(1,5))\n",
        "print(np.random.randint(1,10,5))\n",
        "print(np.random.randint(1,10,(2,2)))"
      ]
    },
    {
      "cell_type": "code",
      "execution_count": 32,
      "metadata": {
        "colab": {
          "base_uri": "https://localhost:8080/"
        },
        "id": "dqN217zXJEtR",
        "outputId": "c3cf650a-69d7-4508-ea58-2c1d69ba0d81"
      },
      "outputs": [
        {
          "output_type": "stream",
          "name": "stdout",
          "text": [
            "0.771320643266746\n",
            "0.22199317108973948\n",
            "0.771320643266746\n"
          ]
        }
      ],
      "source": [
        "#using seed()  to generate fix random number\n",
        "# same number again and again.\n",
        "\n",
        "import random\n",
        "import numpy as np\n",
        "\n",
        "np.random.seed(10)\n",
        "print(np.random.random())\n",
        "\n",
        "np.random.seed(5)\n",
        "print(np.random.random())\n",
        "\n",
        "np.random.seed(10)\n",
        "print(np.random.random())\n",
        "\n"
      ]
    },
    {
      "cell_type": "code",
      "execution_count": 33,
      "metadata": {
        "colab": {
          "base_uri": "https://localhost:8080/"
        },
        "id": "IaO0OPFZJEtS",
        "outputId": "003c9ca3-ff44-4fbc-8dad-d253f92d7684"
      },
      "outputs": [
        {
          "output_type": "stream",
          "name": "stdout",
          "text": [
            "[[1 2 3]\n",
            " [4 5 6]\n",
            " [7 8 9]]\n",
            "[1 2 3 4 5 6 7 8 9]\n"
          ]
        }
      ],
      "source": [
        "# ravel() It returns flattend 1D array\n",
        "# from Nd to 1d array.\n",
        "\n",
        "import numpy as np\n",
        "x = np.array([[1,2,3],[4,5,6],[7,8,9]])\n",
        "print(x)\n",
        "print(np.ravel(x))\n"
      ]
    },
    {
      "cell_type": "code",
      "execution_count": 37,
      "metadata": {
        "colab": {
          "base_uri": "https://localhost:8080/"
        },
        "id": "zh48lTrZJEtS",
        "outputId": "febdeb22-4365-40d5-dd00-c7096cc933b9"
      },
      "outputs": [
        {
          "output_type": "stream",
          "name": "stdout",
          "text": [
            "[[0. 0. 0.]\n",
            " [0. 0. 0.]\n",
            " [0. 0. 0.]]\n",
            "[[1. 1. 1.]\n",
            " [1. 1. 1.]\n",
            " [1. 1. 1.]]\n",
            "[0. 0. 0. 0. 0.]\n",
            "[1. 1. 1. 1. 1.]\n"
          ]
        }
      ],
      "source": [
        "import numpy as np\n",
        "print(np.zeros((3,3)))\n",
        "print(np.ones((3,3)))\n",
        "print(np.zeros(5))\n",
        "print(np.ones(5))"
      ]
    },
    {
      "cell_type": "code",
      "source": [],
      "metadata": {
        "id": "EGd2SAjIRV8p"
      },
      "execution_count": null,
      "outputs": []
    }
  ],
  "metadata": {
    "kernelspec": {
      "display_name": "Python 3",
      "language": "python",
      "name": "python3"
    },
    "language_info": {
      "codemirror_mode": {
        "name": "ipython",
        "version": 3
      },
      "file_extension": ".py",
      "mimetype": "text/x-python",
      "name": "python",
      "nbconvert_exporter": "python",
      "pygments_lexer": "ipython3",
      "version": "3.7.6"
    },
    "colab": {
      "provenance": []
    }
  },
  "nbformat": 4,
  "nbformat_minor": 0
}